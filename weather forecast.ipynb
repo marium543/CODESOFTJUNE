{
 "cells": [
  {
   "cell_type": "code",
   "execution_count": 2,
   "id": "2953d1e3",
   "metadata": {},
   "outputs": [
    {
     "name": "stdout",
     "output_type": "stream",
     "text": [
      "Enter a city name or city code: new york\n",
      "Weather in New York:\n",
      "Temperature: 23.25°C\n",
      "Humidity: 54%\n",
      "Description: Fog\n",
      "Wind Speed: 4.63 m/s\n"
     ]
    }
   ],
   "source": [
    "import requests\n",
    "import json\n",
    "\n",
    "API_KEY = '618c55b3d91eeafbb917c6e803977796'\n",
    "\n",
    "BASE_URL = 'https://api.openweathermap.org/data/2.5/weather'\n",
    "\n",
    "def get_weather_data(location):\n",
    "    params = {'q': location, 'appid': API_KEY, 'units': 'metric'}\n",
    "\n",
    "    try:\n",
    "        response = requests.get(BASE_URL, params=params)\n",
    "        data = response.json()\n",
    "\n",
    "        if response.status_code == 200:\n",
    "            return data\n",
    "        else:\n",
    "            print(f\"Error: {data['message']}\")\n",
    "            return None\n",
    "    except Exception as e:\n",
    "        print(f\"Error: {str(e)}\")\n",
    "        return None\n",
    "\n",
    "def display_weather(weather_data):\n",
    "    if weather_data:\n",
    "        city = weather_data['name']\n",
    "        temperature = weather_data['main']['temp']\n",
    "        humidity = weather_data['main']['humidity']\n",
    "        description = weather_data['weather'][0]['description']\n",
    "        wind_speed = weather_data['wind']['speed']\n",
    "\n",
    "        print(f\"Weather in {city}:\")\n",
    "        print(f\"Temperature: {temperature}°C\")\n",
    "        print(f\"Humidity: {humidity}%\")\n",
    "        print(f\"Description: {description.capitalize()}\")\n",
    "        print(f\"Wind Speed: {wind_speed} m/s\")\n",
    "    else:\n",
    "        print(\"Unable to retrieve weather data.\")\n",
    "\n",
    "if __name__ == \"__main__\":\n",
    "    location = input(\"Enter a city name or city code: \")\n",
    "    weather_data = get_weather_data(location)\n",
    "\n",
    "    # If the initial request with the user input fails, try again with a different format\n",
    "    if weather_data is None:\n",
    "        if location.isdigit():\n",
    "            # If the input is a number, treat it as a city code and retry\n",
    "            weather_data = get_weather_data(f'id={location}')\n",
    "        else:\n",
    "            # If the input is not a number, treat it as a city name and retry\n",
    "            weather_data = get_weather_data(location)\n",
    "\n",
    "    display_weather(weather_data)\n"
   ]
  },
  {
   "cell_type": "code",
   "execution_count": null,
   "id": "00c3e3e4",
   "metadata": {},
   "outputs": [],
   "source": []
  }
 ],
 "metadata": {
  "kernelspec": {
   "display_name": "Python 3 (ipykernel)",
   "language": "python",
   "name": "python3"
  },
  "language_info": {
   "codemirror_mode": {
    "name": "ipython",
    "version": 3
   },
   "file_extension": ".py",
   "mimetype": "text/x-python",
   "name": "python",
   "nbconvert_exporter": "python",
   "pygments_lexer": "ipython3",
   "version": "3.9.13"
  }
 },
 "nbformat": 4,
 "nbformat_minor": 5
}
