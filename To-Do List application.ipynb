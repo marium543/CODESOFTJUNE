{
 "cells": [
  {
   "cell_type": "code",
   "execution_count": null,
   "id": "83ef6c27",
   "metadata": {},
   "outputs": [
    {
     "name": "stdout",
     "output_type": "stream",
     "text": [
      "\n",
      "To-Do List Menu:\n",
      "1. Add Task\n",
      "2. List Tasks\n",
      "3. Mark Task as Completed\n",
      "4. Delete Task\n",
      "5. Exit\n"
     ]
    }
   ],
   "source": [
    "tasks = []\n",
    "\n",
    "def add_task(task_name):\n",
    "    tasks.append({\"name\": task_name, \"completed\": False})\n",
    "    print(\"Task added.\")\n",
    "\n",
    "def list_tasks():\n",
    "    if not tasks:\n",
    "        print(\"No tasks in the list.\")\n",
    "        return\n",
    "\n",
    "    print(\"\\nTasks:\")\n",
    "    for i in range(len(tasks)):\n",
    "        task = tasks[i]\n",
    "        status = \"(done)\" if task[\"completed\"] else \"(not done)\"\n",
    "        print(str(i + 1) + \". \" + status + \" \" + task['name'])\n",
    "\n",
    "def mark_task_completed(task_index):\n",
    "    if 0 < task_index <= len(tasks):\n",
    "        tasks[task_index - 1][\"completed\"] = True\n",
    "        print(\"Task marked as completed.\")\n",
    "    else:\n",
    "        print(\"Invalid task number.\")\n",
    "\n",
    "def delete_task(task_index):\n",
    "    if 0 < task_index <= len(tasks):\n",
    "        del tasks[task_index - 1]\n",
    "        print(\"Task deleted.\")\n",
    "    else:\n",
    "        print(\"Invalid task number.\")\n",
    "\n",
    "def main():\n",
    "    while True:\n",
    "        print(\"\\nTo-Do List Menu:\")\n",
    "        print(\"1. Add Task\")\n",
    "        print(\"2. List Tasks\")\n",
    "        print(\"3. Mark Task as Completed\")\n",
    "        print(\"4. Delete Task\")\n",
    "        print(\"5. Exit\")\n",
    "\n",
    "        choice = input(\"Enter your choice: \")\n",
    "\n",
    "        if choice == \"1\":\n",
    "            task_name = input(\"Enter task name: \")\n",
    "            add_task(task_name)\n",
    "\n",
    "        elif choice == \"2\":\n",
    "            list_tasks()\n",
    "\n",
    "        elif choice == \"3\":\n",
    "            list_tasks()\n",
    "            task_index = int(input(\"Enter task number to mark as completed: \"))\n",
    "            mark_task_completed(task_index)\n",
    "\n",
    "        elif choice == \"4\":\n",
    "            list_tasks()\n",
    "            task_index = int(input(\"Enter task number to delete: \"))\n",
    "            delete_task(task_index)\n",
    "\n",
    "        elif choice == \"5\":\n",
    "            print(\"Exiting the application.\")\n",
    "            break\n",
    "\n",
    "        else:\n",
    "            print(\"Invalid choice. Please enter a valid option.\")\n",
    "\n",
    "if __name__ == \"__main__\":\n",
    "    main()\n"
   ]
  },
  {
   "cell_type": "code",
   "execution_count": null,
   "id": "fb3b9f16",
   "metadata": {},
   "outputs": [],
   "source": []
  }
 ],
 "metadata": {
  "kernelspec": {
   "display_name": "Python 3 (ipykernel)",
   "language": "python",
   "name": "python3"
  },
  "language_info": {
   "codemirror_mode": {
    "name": "ipython",
    "version": 3
   },
   "file_extension": ".py",
   "mimetype": "text/x-python",
   "name": "python",
   "nbconvert_exporter": "python",
   "pygments_lexer": "ipython3",
   "version": "3.9.13"
  }
 },
 "nbformat": 4,
 "nbformat_minor": 5
}
